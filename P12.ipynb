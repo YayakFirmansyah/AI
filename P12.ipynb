{
  "nbformat": 4,
  "nbformat_minor": 0,
  "metadata": {
    "colab": {
      "provenance": [],
      "toc_visible": true,
      "authorship_tag": "ABX9TyM/4BumfcNPaT21tmn6Eltj",
      "include_colab_link": true
    },
    "kernelspec": {
      "name": "python3",
      "display_name": "Python 3"
    },
    "language_info": {
      "name": "python"
    }
  },
  "cells": [
    {
      "cell_type": "markdown",
      "metadata": {
        "id": "view-in-github",
        "colab_type": "text"
      },
      "source": [
        "<a href=\"https://colab.research.google.com/github/YayakFirmansyah/AI/blob/main/P12.ipynb\" target=\"_parent\"><img src=\"https://colab.research.google.com/assets/colab-badge.svg\" alt=\"Open In Colab\"/></a>"
      ]
    },
    {
      "cell_type": "markdown",
      "source": [
        "Nama : Dhiya'uddin Firmansyah\n",
        "Absen : 06\n",
        "Kelas : 2B-TI"
      ],
      "metadata": {
        "id": "w9bFZXTGxNbl"
      }
    },
    {
      "cell_type": "code",
      "execution_count": 30,
      "metadata": {
        "colab": {
          "base_uri": "https://localhost:8080/",
          "height": 0
        },
        "id": "3BQWf3FwcR47",
        "outputId": "c3b49cb1-d501-42e9-d7e3-e62213731c04"
      },
      "outputs": [
        {
          "output_type": "execute_result",
          "data": {
            "text/plain": [
              "0.9402859586706309"
            ]
          },
          "metadata": {},
          "execution_count": 30
        }
      ],
      "source": [
        "import numpy as np\n",
        "import pandas as pd\n",
        "eps = np.finfo(float).eps\n",
        "from numpy import log2 as log\n",
        "\n",
        "outlook = 'overcast,overcast,overcast,overcast,rainy,rainy,rainy,rainy,rainy,sunny,sunny,sunny,sunny,sunny'.split(',')\n",
        "temp = 'hot,cool,mild,hot,mild,cool,cool,mild,mild,hot,hot,mild,cool,mild'.split(',')\n",
        "humidity = 'high,normal,high,normal,high,normal,normal,normal,high,high,high,high,normal,normal'.split(',')\n",
        "windy = 'FALSE,TRUE,TRUE,FALSE,FALSE,FALSE,TRUE,FALSE,TRUE,FALSE,TRUE,FALSE,FALSE,TRUE'.split(',')\n",
        "play = 'yes,yes,yes,yes,yes,yes,no,yes,no,no,no,no,yes,yes'.split(',')\n",
        "\n",
        "dataset ={'outlook':outlook,'temp':temp,'humidity':humidity,'windy':windy,'play':play}\n",
        "df = pd.DataFrame(dataset,columns=['outlook','temp','humidity','windy','play'])\n",
        "#df = pd.DataFrame.from_dict(dataset, orient='index')\n",
        "#df = df.transpose()\n",
        "\n",
        "#1 calculate entropy o the whole dataset\n",
        "\n",
        "entropy_node = 0 #Initialize entropy\n",
        "values = df.play.unique() #Unique objects - 'Yes', 'No'\n",
        "for value in values:\n",
        "  fraction = df.play.value_counts()[value]/len(df.play)\n",
        "  entropy_node += -fraction*np.log2(fraction)\n",
        "entropy_node"
      ]
    },
    {
      "cell_type": "code",
      "source": [
        "def ent(df,attribute):\n",
        "  target_variables = df.play.unique() #This gives all 'Yes' and 'No'\n",
        "  variables = df[attribute].unique() #This gives different features in that attribute (Like 'Sweet')\n",
        "  \n",
        "  \n",
        "  entropy_attribute = 0\n",
        "  for variable in variables:\n",
        "    entropy_each_feature = 0\n",
        "    for target_variable in target_variables:\n",
        "      num = len(df[attribute][df[attribute]==variable][df.play==target_variable]) #numerator\n",
        "      den = len(df[attribute][df[attribute]==variable]) #denominator\n",
        "      fraction = num/(den+eps) #pi\n",
        "      entropy_each_feature += -fraction*log(fraction+eps) #This calculates entropy for one feature like 'Sweet'\n",
        "    fraction2 = den/len(df)\n",
        "    entropy_attribute += -fraction2*entropy_each_feature #Sums up all the entropy ETaste\n",
        "\n",
        "  return(abs(entropy_attribute))"
      ],
      "metadata": {
        "id": "oNBluMhAohBZ"
      },
      "execution_count": 17,
      "outputs": []
    },
    {
      "cell_type": "code",
      "source": [
        "a_entropy = {k:ent(df,k) for k in df.keys()[:-1]}\n",
        "a_entropy"
      ],
      "metadata": {
        "colab": {
          "base_uri": "https://localhost:8080/",
          "height": 0
        },
        "id": "onKyJt-fm0g2",
        "outputId": "2630b89a-afba-49e4-d33e-a1d6950c6edf"
      },
      "execution_count": 31,
      "outputs": [
        {
          "output_type": "execute_result",
          "data": {
            "text/plain": [
              "{'outlook': 0.6935361388961914,\n",
              " 'temp': 0.9110633930116756,\n",
              " 'humidity': 0.7884504573082889,\n",
              " 'windy': 0.892158928262361}"
            ]
          },
          "metadata": {},
          "execution_count": 31
        }
      ]
    },
    {
      "cell_type": "code",
      "source": [
        "def ig(e_dataset,e_attr):\n",
        "  return(e_dataset-e_attr)"
      ],
      "metadata": {
        "id": "b3prAHkXm6S0"
      },
      "execution_count": 15,
      "outputs": []
    },
    {
      "cell_type": "code",
      "source": [
        "#entropy_node = entropy of dataset\n",
        "#a_entropy[k] = entropy of k(th) attr\n",
        "IG = {k:ig(entropy_node,a_entropy[k]) for k in a_entropy}\n",
        "IG"
      ],
      "metadata": {
        "colab": {
          "base_uri": "https://localhost:8080/",
          "height": 0
        },
        "id": "3TfIsCn8nBoK",
        "outputId": "a7d16f10-68dd-4b8f-f85e-2824a7fcd20f"
      },
      "execution_count": 32,
      "outputs": [
        {
          "output_type": "execute_result",
          "data": {
            "text/plain": [
              "{'outlook': 0.24674981977443955,\n",
              " 'temp': 0.029222565658955313,\n",
              " 'humidity': 0.15183550136234203,\n",
              " 'windy': 0.04812703040826993}"
            ]
          },
          "metadata": {},
          "execution_count": 32
        }
      ]
    },
    {
      "cell_type": "code",
      "source": [
        "def find_entropy(df):\n",
        "  Class = df.keys()[-1] #To make the code generic, changing target variable class name\n",
        "  entropy = 0\n",
        "  values = df[Class].unique()\n",
        "  for value in values:\n",
        "    fraction = df[Class].value_counts()[value]/len(df[Class])\n",
        "    entropy += -fraction*np.log2(fraction)\n",
        "  return entropy\n",
        "\n",
        "def find_entropy_attribute(df,attribute):\n",
        "  Class = df.keys()[-1] #To make the code generic, changing target variable class name\n",
        "  target_variables = df[Class].unique() #This gives all 'Yes' and 'No'\n",
        "  variables = df[attribute].unique() #This gives different features in that attribute (like 'Hot','Cold' in temperature)\n",
        "  entropy2 = 0\n",
        "  for variable in variables:\n",
        "    entropy = 0\n",
        "    for target_variable in target_variables:\n",
        "      num = len(df[attribute][df[attribute]==variable][df[Class]==target_variable])\n",
        "      den = len(df[attribute][df[attribute]==variable])\n",
        "      fraction = num/(den+eps)\n",
        "      entropy += -fraction*log(fraction+eps)\n",
        "    fraction2 = den/len(df)\n",
        "    entropy2 += -fraction2*entropy\n",
        "  return abs(entropy2)\n",
        "\n",
        "def find_winner(df):\n",
        "  Entropy_att = []\n",
        "  IG = []\n",
        "  for key in df.keys()[:-1]:\n",
        "    #Entropy_att.append(find_entropy_attribute(df,key))\n",
        "    IG.append(find_entropy(df)-find_entropy_attribute(df,key))\n",
        "  return df.keys()[:-1][np.argmax(IG)]\n",
        "\n",
        "def get_subtable(df,node,value):\n",
        "  return df[df[node]==value].reset_index(drop=True)\n",
        "\n",
        "def buildTree(df,tree=None):\n",
        "  Class = df.keys()[-1]\n",
        "  node = find_winner(df)\n",
        "  attValue = np.unique(df[node])\n",
        "  if tree is None:\n",
        "    tree={}\n",
        "    tree[node] = {}\n",
        "\n",
        "  for value in attValue:\n",
        "    subtable = get_subtable(df,node,value)\n",
        "    clValue,counts = np.unique(subtable[Class],return_counts=True)\n",
        "\n",
        "    if len(counts)==1:\n",
        "      tree[node][value] = clValue[0]\n",
        "    else:\n",
        "      tree[node][value] = buildTree(subtable)\n",
        "\n",
        "  return tree"
      ],
      "metadata": {
        "id": "WhDvFIejnrga"
      },
      "execution_count": 41,
      "outputs": []
    },
    {
      "cell_type": "code",
      "source": [
        "pip install pprintpp"
      ],
      "metadata": {
        "colab": {
          "base_uri": "https://localhost:8080/",
          "height": 0
        },
        "id": "vx6ik2d9hW-C",
        "outputId": "1e82d765-e6e6-418d-aa7c-e57c438c8a47"
      },
      "execution_count": 36,
      "outputs": [
        {
          "output_type": "stream",
          "name": "stdout",
          "text": [
            "Looking in indexes: https://pypi.org/simple, https://us-python.pkg.dev/colab-wheels/public/simple/\n",
            "Requirement already satisfied: pprintpp in /usr/local/lib/python3.7/dist-packages (0.4.0)\n"
          ]
        }
      ]
    },
    {
      "cell_type": "code",
      "source": [
        "t = buildTree(df)\n",
        "import pprintpp\n",
        "pprintpp.pprint(t)"
      ],
      "metadata": {
        "colab": {
          "base_uri": "https://localhost:8080/",
          "height": 0
        },
        "id": "nJH0aTMGsv6b",
        "outputId": "a86c6eb9-2826-4a2b-93a8-4b01b7af5bfb"
      },
      "execution_count": 42,
      "outputs": [
        {
          "output_type": "stream",
          "name": "stdout",
          "text": [
            "{\n",
            "    'outlook': {\n",
            "        'overcast': 'yes',\n",
            "        'rainy': {'windy': {'FALSE': 'yes', 'TRUE': 'no'}},\n",
            "        'sunny': {'humidity': {'high': 'no', 'normal': 'yes'}},\n",
            "    },\n",
            "}\n"
          ]
        }
      ]
    },
    {
      "cell_type": "markdown",
      "source": [
        "Tidak sama, karena di kode program menggunakan rumus ID3"
      ],
      "metadata": {
        "id": "GhbukNcqxUHa"
      }
    }
  ]
}